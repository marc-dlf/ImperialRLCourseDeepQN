{
 "cells": [
  {
   "cell_type": "code",
   "execution_count": 90,
   "metadata": {},
   "outputs": [],
   "source": [
    "import cv2\n",
    "import numpy as np"
   ]
  },
  {
   "cell_type": "code",
   "execution_count": 91,
   "metadata": {},
   "outputs": [],
   "source": [
    "class QNetworkViz(object):\n",
    "    \n",
    "    def __init__(self):\n",
    "        self.height = 500\n",
    "        self.width = 500\n",
    "        self.square_size = self.height/10\n",
    "        self.img = np.zeros([self.height, \n",
    "                             self.width, \n",
    "                             3], dtype=np.uint8)\n",
    "\n",
    "    def get_color(self,qvalue):\n",
    "        val = int(qvalue*255)\n",
    "        return [255-val,val,val]\n",
    "\n",
    "    \n",
    "    def normalize_qvalues(self,q):\n",
    "        normalized_q = np.copy(q)\n",
    "        for i in range(q.shape[0]):\n",
    "            for j in range(q.shape[1]):\n",
    "                normalized_q[i,j,:] = (normalized_q[i,j,:] - np.min(normalized_q[i,j,:]))/np.ptp(normalized_q[i,j,:])\n",
    "                \n",
    "        return normalized_q\n",
    "    \n",
    "    def plot_q_values(self,q):\n",
    "        \n",
    "        normalized_q = self.normalize_qvalues(q)\n",
    "        normalized_q = np.flip(normalized_q,axis=1)\n",
    "        for i in range(0,10):\n",
    "            for j in range(0,10):\n",
    "            ### Points coordinates\n",
    "        \n",
    "                top_left_point = (int(i*(self.square_size))-(i>0),\n",
    "                                  int(j*(self.square_size))-(j>0))\n",
    "        \n",
    "        \n",
    "                bottom_left_point = (int(i*(self.square_size))-(i>0),\n",
    "                                     int((j+1)*(self.square_size))-1)\n",
    "        \n",
    "                top_right_point = (int((i+1)*(self.square_size))-1,\n",
    "                                  int(j*(self.square_size))-(j>0))\n",
    "        \n",
    "                bottom_right_point = (int((i+1)*(self.square_size))-1,\n",
    "                                      int((j+1)*(self.square_size))-1)\n",
    "        \n",
    "                middle_point = (int(self.square_size*(i+(1/2)))-1,\n",
    "                                int(self.square_size*(j+(1/2)))-1)\n",
    "        \n",
    "                ### Right triangles\n",
    "        \n",
    "                right_triangle = [[top_right_point,bottom_right_point],\n",
    "                                  [bottom_right_point,middle_point],\n",
    "                                  [middle_point,top_right_point]]\n",
    "        \n",
    "                cv2.fillConvexPoly(self.img,np.array(right_triangle,dtype=np.int32).reshape(-1,1,2)\n",
    "                                   ,color=self.get_color(normalized_q[i,j,0]),lineType=8)\n",
    "        \n",
    "                cv2.line(self.img,right_triangle[1][0],right_triangle[1][1],color=(0,0,0))\n",
    "                cv2.line(self.img,right_triangle[2][0],right_triangle[2][1],color=(0,0,0))\n",
    "        \n",
    "                ### Down triangles\n",
    "        \n",
    "                down_triangle = [[top_left_point,top_right_point],\n",
    "                                 [top_right_point,middle_point],\n",
    "                                 [middle_point,top_left_point]]\n",
    "        \n",
    "        \n",
    "                cv2.fillConvexPoly(self.img,np.array(down_triangle,dtype=np.int32).reshape(-1,1,2)\n",
    "                                   ,color=self.get_color(normalized_q[i,j,1]))\n",
    "        \n",
    "                cv2.line(self.img,down_triangle[1][0],down_triangle[1][1],color=(0,0,0))\n",
    "                cv2.line(self.img,down_triangle[2][0],down_triangle[2][1],color=(0,0,0))\n",
    "        \n",
    "                ### Left triangles\n",
    "        \n",
    "                left_triangle = [[top_left_point,bottom_left_point],\n",
    "                                 [bottom_left_point,middle_point],\n",
    "                                 [middle_point,top_left_point]]\n",
    "        \n",
    "        \n",
    "                cv2.fillConvexPoly(self.img,np.array(left_triangle,dtype=np.int32).reshape(-1,1,2),\n",
    "                                   color=self.get_color(normalized_q[i,j,2]))\n",
    "        \n",
    "                cv2.line(self.img,left_triangle[1][0],left_triangle[1][1],color=(0,0,0))\n",
    "                cv2.line(self.img,left_triangle[2][0],left_triangle[2][1],color=(0,0,0))\n",
    "        \n",
    "                ### Up triangles\n",
    "                up_triangle = [[bottom_right_point,bottom_left_point],\n",
    "                               [bottom_left_point,middle_point],\n",
    "                               [middle_point,bottom_right_point]]\n",
    "        \n",
    "                cv2.fillConvexPoly(self.img,np.array(up_triangle).reshape(-1,1,2),\n",
    "                                   color=self.get_color(normalized_q[i,j,3]))\n",
    "        \n",
    "                cv2.line(self.img,up_triangle[1][0],up_triangle[1][1],color=(0,0,0))\n",
    "                cv2.line(self.img,up_triangle[2][0],up_triangle[2][1],color=(0,0,0))\n",
    "        \n",
    "        \n",
    "    def plot_grid(self):\n",
    "        for i in range(1,10):\n",
    "            cv2.line(self.img,(0,int(i*(self.height/10)-1)),\n",
    "                     (self.width-1,int(i*(self.height/10))-1),\n",
    "                     (255,255,255))\n",
    "            cv2.line(self.img,(int(i*(self.width/10))-1,0),\n",
    "                     (int(i*(self.width/10))-1,self.height-1),\n",
    "                     (255,255,255))\n",
    "    \n",
    "        \n",
    "    def get_pixel(self,state):\n",
    "        pixel_x = int(self.width*(state[0]))\n",
    "        pixel_y = int(self.height - self.height*(state[1]))\n",
    "            \n",
    "        return (pixel_x,pixel_y)\n",
    "        \n",
    "    def plot_path(self,successive_states):\n",
    "        first_state_pixel = self.get_pixel(successive_states[0])\n",
    "        last_state_pixel = self.get_pixel(successive_states[-1])\n",
    "        \n",
    "        \n",
    "        delta = 255/(len(successive_states)-1)\n",
    "        for i in range(len(successive_states)-1):\n",
    "            \n",
    "            current_pixel = self.get_pixel(successive_states[i])\n",
    "            next_pixel = self.get_pixel(successive_states[i+1])\n",
    "            cv2.line(self.img,current_pixel,\n",
    "                         next_pixel,\n",
    "                         (0,int(i*delta),255-int(i*delta)),thickness=3)\n",
    "            \n",
    "        cv2.circle(self.img, first_state_pixel, 5, (0,0,255), cv2.FILLED)\n",
    "        cv2.circle(self.img, last_state_pixel, 5, (0,255,0), cv2.FILLED)\n",
    "            \n",
    "            \n",
    "    def show(self):\n",
    "        cv2.imshow(\"Environment\", self.img)\n",
    "        cv2.waitKey(1)\n",
    "        \n",
    "    def reset(self):\n",
    "        self.img = np.zeros([self.height, \n",
    "                             self.width, \n",
    "                             3], dtype=np.uint8)"
   ]
  },
  {
   "cell_type": "code",
   "execution_count": 92,
   "metadata": {},
   "outputs": [],
   "source": [
    "q = np.random.rand(10,10,4) -  np.random.rand(10,10,4)"
   ]
  },
  {
   "cell_type": "code",
   "execution_count": 93,
   "metadata": {},
   "outputs": [],
   "source": [
    "viz = QNetworkViz()"
   ]
  },
  {
   "cell_type": "code",
   "execution_count": 95,
   "metadata": {},
   "outputs": [],
   "source": [
    "viz.plot_grid()\n",
    "viz.plot_path(states)\n",
    "viz.plot_q_values(q)\n",
    "viz.show()"
   ]
  },
  {
   "cell_type": "code",
   "execution_count": null,
   "metadata": {},
   "outputs": [],
   "source": [
    "iz.plot_q_values(q)\n",
    "viz.plot_gr\n",
    "viz.show()"
   ]
  },
  {
   "cell_type": "code",
   "execution_count": 86,
   "metadata": {},
   "outputs": [],
   "source": [
    "states = np.array([[0.15       ,0.15      ],\n",
    "                   [0.25       ,0.15      ],\n",
    "                   [0.35       ,0.15      ],\n",
    "                   [0.45       ,0.15      ],\n",
    "                   [0.55       ,0.15      ],\n",
    "                   [0.65       ,0.15      ],])"
   ]
  },
  {
   "cell_type": "code",
   "execution_count": 20,
   "metadata": {},
   "outputs": [
    {
     "ename": "SystemError",
     "evalue": "new style getargs format but argument is not a tuple",
     "output_type": "error",
     "traceback": [
      "\u001b[0;31m---------------------------------------------------------------------------\u001b[0m",
      "\u001b[0;31mSystemError\u001b[0m                               Traceback (most recent call last)",
      "\u001b[0;32m<ipython-input-20-7e36d83649ce>\u001b[0m in \u001b[0;36m<module>\u001b[0;34m\u001b[0m\n\u001b[0;32m----> 1\u001b[0;31m \u001b[0mviz\u001b[0m\u001b[0;34m.\u001b[0m\u001b[0mplot_path\u001b[0m\u001b[0;34m(\u001b[0m\u001b[0mstates\u001b[0m\u001b[0;34m)\u001b[0m\u001b[0;34m\u001b[0m\u001b[0;34m\u001b[0m\u001b[0m\n\u001b[0m",
      "\u001b[0;32m<ipython-input-9-1ab9bc0db3af>\u001b[0m in \u001b[0;36mplot_path\u001b[0;34m(self, successive_states)\u001b[0m\n\u001b[1;32m    124\u001b[0m             cv2.line(self.img,current_pixel,\n\u001b[1;32m    125\u001b[0m                          \u001b[0mnext_pixel\u001b[0m\u001b[0;34m,\u001b[0m\u001b[0;34m\u001b[0m\u001b[0;34m\u001b[0m\u001b[0m\n\u001b[0;32m--> 126\u001b[0;31m                          (255,255,255))\n\u001b[0m\u001b[1;32m    127\u001b[0m \u001b[0;34m\u001b[0m\u001b[0m\n\u001b[1;32m    128\u001b[0m         \u001b[0mcv2\u001b[0m\u001b[0;34m.\u001b[0m\u001b[0mcircle\u001b[0m\u001b[0;34m(\u001b[0m\u001b[0mself\u001b[0m\u001b[0;34m.\u001b[0m\u001b[0mimage\u001b[0m\u001b[0;34m,\u001b[0m \u001b[0mfirst_state_pixel\u001b[0m\u001b[0;34m,\u001b[0m \u001b[0;36m5\u001b[0m\u001b[0;34m,\u001b[0m \u001b[0;34m(\u001b[0m\u001b[0;36m255\u001b[0m\u001b[0;34m,\u001b[0m\u001b[0;36m0\u001b[0m\u001b[0;34m,\u001b[0m\u001b[0;36m0\u001b[0m\u001b[0;34m)\u001b[0m\u001b[0;34m,\u001b[0m \u001b[0mcv2\u001b[0m\u001b[0;34m.\u001b[0m\u001b[0mFILLED\u001b[0m\u001b[0;34m)\u001b[0m\u001b[0;34m\u001b[0m\u001b[0;34m\u001b[0m\u001b[0m\n",
      "\u001b[0;31mSystemError\u001b[0m: new style getargs format but argument is not a tuple"
     ]
    }
   ],
   "source": [
    "viz.plot_path(states)"
   ]
  },
  {
   "cell_type": "code",
   "execution_count": 96,
   "metadata": {},
   "outputs": [],
   "source": [
    "k = np.array([[[1,2,3],\n",
    "              [4,5,6],\n",
    "              [7,8,9]],\n",
    "              [[1,2,3],\n",
    "              [4,5,6],\n",
    "              [7,8,9]],\n",
    "              [[1,2,3],\n",
    "              [4,5,6],\n",
    "              [7,8,9]]])"
   ]
  },
  {
   "cell_type": "code",
   "execution_count": 97,
   "metadata": {},
   "outputs": [
    {
     "data": {
      "text/plain": [
       "array([[[7, 8, 9],\n",
       "        [4, 5, 6],\n",
       "        [1, 2, 3]],\n",
       "\n",
       "       [[7, 8, 9],\n",
       "        [4, 5, 6],\n",
       "        [1, 2, 3]],\n",
       "\n",
       "       [[7, 8, 9],\n",
       "        [4, 5, 6],\n",
       "        [1, 2, 3]]])"
      ]
     },
     "execution_count": 97,
     "metadata": {},
     "output_type": "execute_result"
    }
   ],
   "source": [
    "np.flip(k,axis=1)"
   ]
  },
  {
   "cell_type": "code",
   "execution_count": 69,
   "metadata": {},
   "outputs": [
    {
     "data": {
      "text/plain": [
       "(3, 3, 3)"
      ]
     },
     "execution_count": 69,
     "metadata": {},
     "output_type": "execute_result"
    }
   ],
   "source": [
    "k.shape"
   ]
  },
  {
   "cell_type": "code",
   "execution_count": 73,
   "metadata": {},
   "outputs": [],
   "source": [
    "from collections import deque"
   ]
  },
  {
   "cell_type": "code",
   "execution_count": 77,
   "metadata": {},
   "outputs": [],
   "source": [
    "\n",
    "q = deque()\n",
    "q.append((1,2,3))"
   ]
  },
  {
   "cell_type": "code",
   "execution_count": 80,
   "metadata": {},
   "outputs": [],
   "source": [
    "q.append((1,2,3))"
   ]
  },
  {
   "cell_type": "code",
   "execution_count": 81,
   "metadata": {},
   "outputs": [
    {
     "data": {
      "text/plain": [
       "deque([(1, 2, 3), (1, 2, 3), (1, 2, 3), (1, 2, 3)])"
      ]
     },
     "execution_count": 81,
     "metadata": {},
     "output_type": "execute_result"
    }
   ],
   "source": [
    "q"
   ]
  },
  {
   "cell_type": "code",
   "execution_count": 90,
   "metadata": {},
   "outputs": [
    {
     "ename": "TypeError",
     "evalue": "only integer scalar arrays can be converted to a scalar index",
     "output_type": "error",
     "traceback": [
      "\u001b[0;31m---------------------------------------------------------------------------\u001b[0m",
      "\u001b[0;31mTypeError\u001b[0m                                 Traceback (most recent call last)",
      "\u001b[0;32m<ipython-input-90-493ed50ff512>\u001b[0m in \u001b[0;36m<module>\u001b[0;34m\u001b[0m\n\u001b[0;32m----> 1\u001b[0;31m \u001b[0mnp\u001b[0m\u001b[0;34m.\u001b[0m\u001b[0mrandom\u001b[0m\u001b[0;34m.\u001b[0m\u001b[0msample\u001b[0m\u001b[0;34m(\u001b[0m\u001b[0mnp\u001b[0m\u001b[0;34m.\u001b[0m\u001b[0marray\u001b[0m\u001b[0;34m(\u001b[0m\u001b[0mq\u001b[0m\u001b[0;34m)\u001b[0m\u001b[0;34m)\u001b[0m\u001b[0;34m\u001b[0m\u001b[0;34m\u001b[0m\u001b[0m\n\u001b[0m",
      "\u001b[0;32mmtrand.pyx\u001b[0m in \u001b[0;36mmtrand.RandomState.random_sample\u001b[0;34m()\u001b[0m\n",
      "\u001b[0;32mmtrand.pyx\u001b[0m in \u001b[0;36mmtrand.cont0_array\u001b[0;34m()\u001b[0m\n",
      "\u001b[0;31mTypeError\u001b[0m: only integer scalar arrays can be converted to a scalar index"
     ]
    }
   ],
   "source": [
    "np.random.sample(np.array(q))"
   ]
  },
  {
   "cell_type": "code",
   "execution_count": 88,
   "metadata": {},
   "outputs": [
    {
     "data": {
      "text/plain": [
       "(4, 3)"
      ]
     },
     "execution_count": 88,
     "metadata": {},
     "output_type": "execute_result"
    }
   ],
   "source": [
    "np.array(q).shape"
   ]
  },
  {
   "cell_type": "code",
   "execution_count": 1,
   "metadata": {},
   "outputs": [],
   "source": [
    "import numpy as np"
   ]
  },
  {
   "cell_type": "code",
   "execution_count": 2,
   "metadata": {},
   "outputs": [
    {
     "data": {
      "text/plain": [
       "array([0., 0.])"
      ]
     },
     "execution_count": 2,
     "metadata": {},
     "output_type": "execute_result"
    }
   ],
   "source": [
    "np.zeros(2)"
   ]
  },
  {
   "cell_type": "code",
   "execution_count": null,
   "metadata": {},
   "outputs": [],
   "source": []
  }
 ],
 "metadata": {
  "kernelspec": {
   "display_name": "Python 3",
   "language": "python",
   "name": "python3"
  },
  "language_info": {
   "codemirror_mode": {
    "name": "ipython",
    "version": 3
   },
   "file_extension": ".py",
   "mimetype": "text/x-python",
   "name": "python",
   "nbconvert_exporter": "python",
   "pygments_lexer": "ipython3",
   "version": "3.7.2"
  }
 },
 "nbformat": 4,
 "nbformat_minor": 2
}
